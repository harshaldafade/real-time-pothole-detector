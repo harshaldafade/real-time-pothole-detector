{
  "nbformat": 4,
  "nbformat_minor": 0,
  "metadata": {
    "colab": {
      "provenance": []
    },
    "kernelspec": {
      "name": "python3",
      "display_name": "Python 3"
    },
    "language_info": {
      "name": "python"
    }
  },
  "cells": [
    {
      "cell_type": "code",
      "execution_count": null,
      "metadata": {
        "id": "jK0kI1mNEen9"
      },
      "outputs": [],
      "source": [
        "from flask import Flask, request, jsonify\n",
        "import numpy as np\n",
        "from keras.models import load_model\n",
        "\n",
        "# Load LSTM model\n",
        "model = load_model('lstm_model.h5')\n",
        "\n",
        "# Set your desired threshold\n",
        "threshold = 0.5\n",
        "\n",
        "app = Flask(__name__)\n",
        "\n",
        "@app.route('/')\n",
        "def index():\n",
        "    return \"Pothole Detection\"\n",
        "\n",
        "@app.route('/predict', methods=['POST'])\n",
        "def predict():\n",
        "    try:\n",
        "        content = request.get_json()\n",
        "\n",
        "        # Validate incoming data\n",
        "        required_fields = ['acc_x', 'acc_y', 'acc_z', 'gyro_x', 'gyro_y', 'gyro_z', 'mag_x', 'mag_y', 'mag_z']\n",
        "        for field in required_fields:\n",
        "            if field not in content:\n",
        "                raise ValueError(f\"Missing required field: {field}\")\n",
        "\n",
        "        # Extract data\n",
        "        accx, accy, accz, gyrox, gyroy, gyroz, magx, magy, magz = (\n",
        "            content[field] for field in required_fields\n",
        "        )\n",
        "\n",
        "        # Assuming no scaling is needed\n",
        "        input_query = np.array([[accx, accy, accz, gyrox, gyroy, gyroz, magx, magy, magz]])\n",
        "        input_query = input_query.reshape(1, 9, 1)\n",
        "\n",
        "        # Make predictions\n",
        "        result = model.predict(input_query)[0][0]\n",
        "\n",
        "        # Convert to binary prediction based on the threshold\n",
        "        binary_prediction = 1 if result >= threshold else 0\n",
        "\n",
        "        return jsonify({'ispothole': 'Yes' if binary_prediction == 1 else 'No'})\n",
        "\n",
        "    except Exception as e:\n",
        "        return jsonify({'error': str(e)})\n",
        "\n",
        "if __name__ == '__main__':\n",
        "    app.run(host='0.0.0.0')\n"
      ]
    }
  ]
}